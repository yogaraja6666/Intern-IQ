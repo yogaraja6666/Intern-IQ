{
 "cells": [
  {
   "cell_type": "markdown",
   "id": "9a758b4e",
   "metadata": {},
   "source": [
    "# Task 2 - Car Price Prediction"
   ]
  },
  {
   "cell_type": "markdown",
   "id": "59748b34",
   "metadata": {},
   "source": [
    "Import necessary libraries"
   ]
  },
  {
   "cell_type": "code",
   "execution_count": 1,
   "id": "66292d3e",
   "metadata": {},
   "outputs": [],
   "source": [
    "import pandas as pd\n",
    "import numpy as np\n",
    "from sklearn.model_selection import train_test_split\n",
    "from sklearn.linear_model import LinearRegression\n",
    "from sklearn.metrics import mean_squared_error, r2_score\n",
    "from sklearn.preprocessing import LabelEncoder\n",
    "import seaborn as sns\n",
    "import matplotlib.pyplot as plt\n",
    "from sklearn.metrics import r2_score"
   ]
  },
  {
   "cell_type": "markdown",
   "id": "6ac022f5",
   "metadata": {},
   "source": [
    "Load Dataset"
   ]
  },
  {
   "cell_type": "code",
   "execution_count": 2,
   "id": "77ab3e8a",
   "metadata": {},
   "outputs": [
    {
     "name": "stdout",
     "output_type": "stream",
     "text": [
      "{'_is_copy': None, '_mgr': BlockManager\n",
      "Items: Index(['car_ID', 'symboling', 'CarName', 'fueltype', 'aspiration',\n",
      "       'doornumber', 'carbody', 'drivewheel', 'enginelocation', 'wheelbase',\n",
      "       'carlength', 'carwidth', 'carheight', 'curbweight', 'enginetype',\n",
      "       'cylindernumber', 'enginesize', 'fuelsystem', 'boreratio', 'stroke',\n",
      "       'compressionratio', 'horsepower', 'peakrpm', 'citympg', 'highwaympg',\n",
      "       'price'],\n",
      "      dtype='object')\n",
      "Axis 1: RangeIndex(start=0, stop=205, step=1)\n",
      "NumericBlock: [ 9 10 11 12 18 19 20 25], 8 x 205, dtype: float64\n",
      "NumericBlock: [ 0  1 13 16 21 22 23 24], 8 x 205, dtype: int64\n",
      "ObjectBlock: [ 2  3  4  5  6  7  8 14 15 17], 10 x 205, dtype: object, '_item_cache': {}, '_attrs': {}, '_flags': <Flags(allows_duplicate_labels=True)>}\n"
     ]
    }
   ],
   "source": [
    "data = pd.read_csv(\"Carprice.csv\")\n",
    "print(data.__dict__)"
   ]
  },
  {
   "cell_type": "code",
   "execution_count": 3,
   "id": "290beac2",
   "metadata": {},
   "outputs": [],
   "source": [
    "data.drop(['car_ID', 'symboling', 'CarName'], axis = 1, inplace = True)"
   ]
  },
  {
   "cell_type": "code",
   "execution_count": 4,
   "id": "a315fb8f",
   "metadata": {},
   "outputs": [
    {
     "data": {
      "text/plain": [
       "Index(['fueltype', 'aspiration', 'doornumber', 'carbody', 'drivewheel',\n",
       "       'enginelocation', 'wheelbase', 'carlength', 'carwidth', 'carheight',\n",
       "       'curbweight', 'enginetype', 'cylindernumber', 'enginesize',\n",
       "       'fuelsystem', 'boreratio', 'stroke', 'compressionratio', 'horsepower',\n",
       "       'peakrpm', 'citympg', 'highwaympg', 'price'],\n",
       "      dtype='object')"
      ]
     },
     "execution_count": 4,
     "metadata": {},
     "output_type": "execute_result"
    }
   ],
   "source": [
    "column = data.columns\n",
    "column"
   ]
  },
  {
   "cell_type": "code",
   "execution_count": 5,
   "id": "b7846e94",
   "metadata": {},
   "outputs": [
    {
     "name": "stdout",
     "output_type": "stream",
     "text": [
      "     fueltype  aspiration  doornumber  carbody  drivewheel  enginelocation  \\\n",
      "0           1           0           1        0           2               0   \n",
      "1           1           0           1        0           2               0   \n",
      "2           1           0           1        2           2               0   \n",
      "3           1           0           0        3           1               0   \n",
      "4           1           0           0        3           0               0   \n",
      "..        ...         ...         ...      ...         ...             ...   \n",
      "200         1           0           0        3           2               0   \n",
      "201         1           1           0        3           2               0   \n",
      "202         1           0           0        3           2               0   \n",
      "203         0           1           0        3           2               0   \n",
      "204         1           1           0        3           2               0   \n",
      "\n",
      "     wheelbase  carlength  carwidth  carheight  ...  enginesize  fuelsystem  \\\n",
      "0         88.6      168.8      64.1       48.8  ...         130           5   \n",
      "1         88.6      168.8      64.1       48.8  ...         130           5   \n",
      "2         94.5      171.2      65.5       52.4  ...         152           5   \n",
      "3         99.8      176.6      66.2       54.3  ...         109           5   \n",
      "4         99.4      176.6      66.4       54.3  ...         136           5   \n",
      "..         ...        ...       ...        ...  ...         ...         ...   \n",
      "200      109.1      188.8      68.9       55.5  ...         141           5   \n",
      "201      109.1      188.8      68.8       55.5  ...         141           5   \n",
      "202      109.1      188.8      68.9       55.5  ...         173           5   \n",
      "203      109.1      188.8      68.9       55.5  ...         145           3   \n",
      "204      109.1      188.8      68.9       55.5  ...         141           5   \n",
      "\n",
      "     boreratio  stroke  compressionratio  horsepower  peakrpm  citympg  \\\n",
      "0         3.47    2.68               9.0         111     5000       21   \n",
      "1         3.47    2.68               9.0         111     5000       21   \n",
      "2         2.68    3.47               9.0         154     5000       19   \n",
      "3         3.19    3.40              10.0         102     5500       24   \n",
      "4         3.19    3.40               8.0         115     5500       18   \n",
      "..         ...     ...               ...         ...      ...      ...   \n",
      "200       3.78    3.15               9.5         114     5400       23   \n",
      "201       3.78    3.15               8.7         160     5300       19   \n",
      "202       3.58    2.87               8.8         134     5500       18   \n",
      "203       3.01    3.40              23.0         106     4800       26   \n",
      "204       3.78    3.15               9.5         114     5400       19   \n",
      "\n",
      "     highwaympg    price  \n",
      "0            27  13495.0  \n",
      "1            27  16500.0  \n",
      "2            26  16500.0  \n",
      "3            30  13950.0  \n",
      "4            22  17450.0  \n",
      "..          ...      ...  \n",
      "200          28  16845.0  \n",
      "201          25  19045.0  \n",
      "202          23  21485.0  \n",
      "203          27  22470.0  \n",
      "204          25  22625.0  \n",
      "\n",
      "[205 rows x 23 columns]\n"
     ]
    }
   ],
   "source": [
    "label_encoder = LabelEncoder()\n",
    "data['fueltype'] = label_encoder.fit_transform(data['fueltype'])\n",
    "data['aspiration'] = label_encoder.fit_transform(data['aspiration'])\n",
    "data['doornumber'] = label_encoder.fit_transform(data['doornumber'])\n",
    "data['carbody'] = label_encoder.fit_transform(data['carbody'])\n",
    "data['drivewheel'] = label_encoder.fit_transform(data['drivewheel'])\n",
    "data['enginelocation'] = label_encoder.fit_transform(data['enginelocation'])\n",
    "data['fuelsystem'] = label_encoder.fit_transform(data['fuelsystem'])\n",
    "data['enginetype'] = label_encoder.fit_transform(data['enginetype'])\n",
    "data['cylindernumber'] = label_encoder.fit_transform(data['cylindernumber'])\n",
    "\n",
    "print(data)"
   ]
  },
  {
   "cell_type": "code",
   "execution_count": 7,
   "id": "ca8a9e0a",
   "metadata": {},
   "outputs": [
    {
     "name": "stdout",
     "output_type": "stream",
     "text": [
      "     drivewheel  carlength  carwidth  curbweight  enginesize  horsepower  \\\n",
      "0             2      168.8      64.1        2548         130         111   \n",
      "1             2      168.8      64.1        2548         130         111   \n",
      "2             2      171.2      65.5        2823         152         154   \n",
      "3             1      176.6      66.2        2337         109         102   \n",
      "4             0      176.6      66.4        2824         136         115   \n",
      "..          ...        ...       ...         ...         ...         ...   \n",
      "200           2      188.8      68.9        2952         141         114   \n",
      "201           2      188.8      68.8        3049         141         160   \n",
      "202           2      188.8      68.9        3012         173         134   \n",
      "203           2      188.8      68.9        3217         145         106   \n",
      "204           2      188.8      68.9        3062         141         114   \n",
      "\n",
      "     citympg  highwaympg    price  \n",
      "0         21          27  13495.0  \n",
      "1         21          27  16500.0  \n",
      "2         19          26  16500.0  \n",
      "3         24          30  13950.0  \n",
      "4         18          22  17450.0  \n",
      "..       ...         ...      ...  \n",
      "200       23          28  16845.0  \n",
      "201       19          25  19045.0  \n",
      "202       18          23  21485.0  \n",
      "203       26          27  22470.0  \n",
      "204       19          25  22625.0  \n",
      "\n",
      "[205 rows x 9 columns]\n"
     ]
    }
   ],
   "source": [
    "data = data[['drivewheel', 'carlength', 'carwidth', 'curbweight', 'enginesize', 'horsepower', 'citympg', 'highwaympg', 'price']]\n",
    "print(data)"
   ]
  },
  {
   "cell_type": "code",
   "execution_count": 8,
   "id": "fffe48f0",
   "metadata": {},
   "outputs": [
    {
     "name": "stdout",
     "output_type": "stream",
     "text": [
      "     drivewheel  carlength  carwidth  curbweight  enginesize  horsepower  \\\n",
      "0             2      168.8      64.1        2548         130         111   \n",
      "1             2      168.8      64.1        2548         130         111   \n",
      "2             2      171.2      65.5        2823         152         154   \n",
      "3             1      176.6      66.2        2337         109         102   \n",
      "4             0      176.6      66.4        2824         136         115   \n",
      "..          ...        ...       ...         ...         ...         ...   \n",
      "200           2      188.8      68.9        2952         141         114   \n",
      "201           2      188.8      68.8        3049         141         160   \n",
      "202           2      188.8      68.9        3012         173         134   \n",
      "203           2      188.8      68.9        3217         145         106   \n",
      "204           2      188.8      68.9        3062         141         114   \n",
      "\n",
      "     citympg  highwaympg  \n",
      "0         21          27  \n",
      "1         21          27  \n",
      "2         19          26  \n",
      "3         24          30  \n",
      "4         18          22  \n",
      "..       ...         ...  \n",
      "200       23          28  \n",
      "201       19          25  \n",
      "202       18          23  \n",
      "203       26          27  \n",
      "204       19          25  \n",
      "\n",
      "[205 rows x 8 columns]\n",
      "0      13495.0\n",
      "1      16500.0\n",
      "2      16500.0\n",
      "3      13950.0\n",
      "4      17450.0\n",
      "        ...   \n",
      "200    16845.0\n",
      "201    19045.0\n",
      "202    21485.0\n",
      "203    22470.0\n",
      "204    22625.0\n",
      "Name: price, Length: 205, dtype: float64\n"
     ]
    }
   ],
   "source": [
    "x = data[['drivewheel', 'carlength', 'carwidth', 'curbweight', 'enginesize', 'horsepower', 'citympg', 'highwaympg']]\n",
    "y = data['price']\n",
    "\n",
    "print(x)\n",
    "print(y)"
   ]
  },
  {
   "cell_type": "code",
   "execution_count": 9,
   "id": "ce3d0b38",
   "metadata": {},
   "outputs": [],
   "source": [
    "x_train, x_test, y_train, y_test = train_test_split(x, y, test_size=0.2)"
   ]
  },
  {
   "cell_type": "code",
   "execution_count": 10,
   "id": "ad0c4c46",
   "metadata": {},
   "outputs": [],
   "source": [
    "model = LinearRegression()\n",
    "model.fit(x_train, y_train)\n",
    "\n",
    "y_pred = model.predict(x_test)"
   ]
  },
  {
   "cell_type": "code",
   "execution_count": 11,
   "id": "9af4fea9",
   "metadata": {},
   "outputs": [
    {
     "name": "stdout",
     "output_type": "stream",
     "text": [
      "r2_score = 0.6914747835719022\n"
     ]
    }
   ],
   "source": [
    "print(\"r2_score = %s\" % r2_score(y_test, y_pred))"
   ]
  },
  {
   "cell_type": "code",
   "execution_count": 12,
   "id": "736c869a",
   "metadata": {},
   "outputs": [
    {
     "name": "stdout",
     "output_type": "stream",
     "text": [
      "['drivewheel' 'carlength' 'carwidth' 'curbweight' 'enginesize'\n",
      " 'horsepower' 'citympg' 'highwaympg']\n",
      "[1251.96422136  -73.5979492   857.19160045    3.0678066    83.08212709\n",
      "   49.56262635 -155.43251449  199.76765017]\n"
     ]
    }
   ],
   "source": [
    "print(model.feature_names_in_)\n",
    "print(model.coef_)"
   ]
  },
  {
   "cell_type": "code",
   "execution_count": null,
   "id": "221e9bb5",
   "metadata": {},
   "outputs": [],
   "source": []
  }
 ],
 "metadata": {
  "kernelspec": {
   "display_name": "Python 3 (ipykernel)",
   "language": "python",
   "name": "python3"
  },
  "language_info": {
   "codemirror_mode": {
    "name": "ipython",
    "version": 3
   },
   "file_extension": ".py",
   "mimetype": "text/x-python",
   "name": "python",
   "nbconvert_exporter": "python",
   "pygments_lexer": "ipython3",
   "version": "3.11.4"
  }
 },
 "nbformat": 4,
 "nbformat_minor": 5
}
